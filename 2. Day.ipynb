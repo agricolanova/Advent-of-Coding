{
 "cells": [
  {
   "cell_type": "code",
   "execution_count": 50,
   "id": "b9870aca-8727-41f9-a493-50c9a908c7b3",
   "metadata": {},
   "outputs": [],
   "source": [
    "import pandas as pd\n",
    "import numpy as np\n",
    "\n",
    "df = pd.read_csv(\"Day_2.txt\" ,header=None)\n"
   ]
  },
  {
   "cell_type": "code",
   "execution_count": 73,
   "id": "177921c2-ece4-4052-b669-0da717623ae4",
   "metadata": {
    "tags": []
   },
   "outputs": [],
   "source": [
    "def check(liste):\n",
    "    output_increase=0\n",
    "    output_0=0\n",
    "    output_slope=0\n",
    "    \n",
    "    slope_plus=[]\n",
    "    slope_minus=[]\n",
    "    increase=[]\n",
    "    for x in range(0,len(liste)-1):\n",
    "        a=liste[x]\n",
    "        b=liste[x+1]\n",
    "        c=b-a\n",
    "        if c<0:\n",
    "            slope_minus.append(-1)\n",
    "        if c==0:\n",
    "            output_0+=1\n",
    "        if c>0:\n",
    "            slope_plus.append(+1)\n",
    "            \n",
    "        increase.append(abs(b-a))\n",
    "           \n",
    "    for d in increase:\n",
    "        if d>3:\n",
    "            output_increase+=1\n",
    "        else:\n",
    "            continue\n",
    "    if len(slope_plus)!=len(liste)-1 and len(slope_minus) !=len(liste)-1:\n",
    "        output_slope+=1\n",
    "        \n",
    "    all_output=output_increase+output_0+output_slope\n",
    "   # print(output_increase,output_0,output_slope)\n",
    "    if all_output==0:\n",
    "        return True\n",
    "    else: \n",
    "        return False\n",
    "    \n",
    "    "
   ]
  },
  {
   "cell_type": "code",
   "execution_count": 92,
   "id": "01cf3df9-fbc4-4aad-841e-4711a60bb1c0",
   "metadata": {},
   "outputs": [
    {
     "data": {
      "text/plain": [
       "False"
      ]
     },
     "execution_count": 92,
     "metadata": {},
     "output_type": "execute_result"
    }
   ],
   "source": [
    "def dampener(liste):\n",
    "    safe=0\n",
    "    for x in range(0,len(liste)):\n",
    "        new_list=liste.copy()\n",
    "        new_list.pop(x)\n",
    "        a=check(new_list)\n",
    "        if a==True:\n",
    "            safe+=1\n",
    "            \n",
    "    if safe>0:\n",
    "        return True\n",
    "    else:\n",
    "        return False\n",
    "    \n",
    "dampener([9, 7, 6, 2 ,1])"
   ]
  },
  {
   "cell_type": "code",
   "execution_count": 86,
   "id": "288fd9ab-3df0-4544-81dd-814ee4cf449e",
   "metadata": {},
   "outputs": [
    {
     "name": "stdout",
     "output_type": "stream",
     "text": [
      "['apple', 'banana']\n"
     ]
    }
   ],
   "source": [
    "thislist = [\"apple\", \"banana\", \"cherry\"]\n",
    "thislist.pop(2)\n",
    "print(thislist)"
   ]
  },
  {
   "cell_type": "code",
   "execution_count": 93,
   "id": "80fc395e-68f0-4da7-bc33-a3a155e8dee0",
   "metadata": {},
   "outputs": [
    {
     "name": "stdout",
     "output_type": "stream",
     "text": [
      "439\n"
     ]
    }
   ],
   "source": [
    "safe=[]\n",
    "safe_n=0\n",
    "for x in range(0,1000):\n",
    "    row=df[0][x]\n",
    "    new_row=row.replace(' ', ',')\n",
    "    list_row=new_row.split(\",\")\n",
    "    int_row=list(map(int, list_row))               #finally smth to work with\n",
    "    \n",
    "    \n",
    "    \n",
    "    \n",
    "    a=check(int_row)\n",
    "    \n",
    "    if a==True:\n",
    "        safe_n+=1\n",
    "    if a==False:\n",
    "        b=dampener(int_row)\n",
    "        \n",
    "        if b==True:\n",
    "            safe_n+=1\n",
    "        \n",
    "print(safe_n)"
   ]
  },
  {
   "cell_type": "code",
   "execution_count": null,
   "id": "29f14135-60ad-47a0-9d5e-528f0d68ecca",
   "metadata": {},
   "outputs": [],
   "source": []
  },
  {
   "cell_type": "code",
   "execution_count": null,
   "id": "9fe7fc44-20a8-4ba4-af40-0466c17aaed5",
   "metadata": {},
   "outputs": [],
   "source": []
  }
 ],
 "metadata": {
  "kernelspec": {
   "display_name": "Python 3 (ipykernel)",
   "language": "python",
   "name": "python3"
  },
  "language_info": {
   "codemirror_mode": {
    "name": "ipython",
    "version": 3
   },
   "file_extension": ".py",
   "mimetype": "text/x-python",
   "name": "python",
   "nbconvert_exporter": "python",
   "pygments_lexer": "ipython3",
   "version": "3.10.4"
  }
 },
 "nbformat": 4,
 "nbformat_minor": 5
}
