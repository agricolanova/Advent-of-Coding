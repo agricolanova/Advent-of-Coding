{
 "cells": [
  {
   "cell_type": "code",
   "execution_count": 17,
   "id": "419f41b4-175d-40ba-9a25-323393a3c24d",
   "metadata": {},
   "outputs": [],
   "source": [
    "import pandas as pd\n",
    "import numpy as np\n",
    "\n",
    "#df = pd.read_csv(\"Day_4_sub.txt\" ,header=None)\n",
    "df = pd.read_csv(\"Day_4.txt\" ,header=None)\n"
   ]
  },
  {
   "cell_type": "code",
   "execution_count": 18,
   "id": "7cb366ca-69ae-4b13-bdfd-dff8c4591138",
   "metadata": {},
   "outputs": [
    {
     "name": "stdout",
     "output_type": "stream",
     "text": [
      "                                                     0\n",
      "0    MSSMMSXSMSMSXMXXXMSMSSMSAMXAXASXSASMSMXMXMMAMS...\n",
      "1    XAAAAAXMASMSASXMAMAAMXAAMSSXSAMASASAAAXSAMXAMA...\n",
      "2    MMSMMMSMAMAMAMSAMXMSMMXMAAXAMAMAMMMXMSMSAMSASM...\n",
      "3    AXXXSAMMAMAMMMSXMASAMXMXMMMXXAMXSXAXXAAMAMSMMA...\n",
      "4    SSMAMASXMSASXASASMSAXXAXXSXXSAXAXMSXMMSMAASASX...\n",
      "..                                                 ...\n",
      "135  MMMXMSMMMSMMAMAAXXAAAMSMSMSMMSMSAMAMMMXAXAXMXS...\n",
      "136  SAAXSXAXAAAAXMMMAMSSMMAAAMAAMXAMXSAMXXSAMXSAAX...\n",
      "137  SMASXSMMSSSMSXSMSMXAXSMSMSSSMMXMASASMASAMAXMAS...\n",
      "138  SAMXXXXAAMAMMAXAXMASMXXAAMXMASXMXSAMMAMAMMSAMS...\n",
      "139  SSXMASMMSSMMMAMMMASAMXSMSMASAMAXAMAMMSSXMXXXMS...\n",
      "\n",
      "[140 rows x 1 columns]\n"
     ]
    }
   ],
   "source": [
    "#print(df[0][2][1])\n",
    "\n",
    "\n",
    "print(df)"
   ]
  },
  {
   "cell_type": "code",
   "execution_count": 19,
   "id": "cadfa51c-eff4-4557-9172-eecb1a5eef78",
   "metadata": {},
   "outputs": [
    {
     "data": {
      "text/plain": [
       "413"
      ]
     },
     "execution_count": 19,
     "metadata": {},
     "output_type": "execute_result"
    }
   ],
   "source": [
    "#number=10\n",
    "number=140\n",
    "\n",
    "def find_horizontal(df_zeile):\n",
    "    memory=[]\n",
    "    count=0\n",
    "    for y in range(0,number):\n",
    "        for x in range(0,number-3):\n",
    "            a=df_zeile[y][x]\n",
    "            b=df_zeile[y][x+1]\n",
    "            c=df_zeile[y][x+2]\n",
    "            d=df_zeile[y][x+3]\n",
    "\n",
    "            if a==\"X\" and b==\"M\" and c==\"A\" and d==\"S\":\n",
    "                count+=1\n",
    "                memory.append((x,y))\n",
    "\n",
    "            if a==\"S\" and b==\"A\" and c==\"M\" and d==\"X\":\n",
    "                count+=1\n",
    "                memory.append((x,y))\n",
    "            \n",
    "    #print(memory)\n",
    "    return count\n",
    "            \n",
    "find_horizontal(df[0])"
   ]
  },
  {
   "cell_type": "code",
   "execution_count": 20,
   "id": "50bf0c0b-c47a-4173-a144-665be190ba80",
   "metadata": {},
   "outputs": [
    {
     "data": {
      "text/plain": [
       "456"
      ]
     },
     "execution_count": 20,
     "metadata": {},
     "output_type": "execute_result"
    }
   ],
   "source": [
    "def find_vertical(df):\n",
    "    count=0\n",
    "    for x in range(0,number):\n",
    "        for y in range(0,number-3):\n",
    "            \n",
    "            a=df[y][x]\n",
    "            b=df[y+1][x]\n",
    "            c=df[y+2][x]\n",
    "            d=df[y+3][x]\n",
    "\n",
    "            if a==\"X\" and b==\"M\" and c==\"A\" and d==\"S\":\n",
    "                count+=1\n",
    "\n",
    "            if a==\"S\" and b==\"A\" and c==\"M\" and d==\"X\":\n",
    "                count+=1\n",
    "\n",
    "    return count\n",
    "    \n",
    "find_vertical(df[0])"
   ]
  },
  {
   "cell_type": "code",
   "execution_count": 21,
   "id": "2fdc2aa3-5267-44ff-beaf-ad1a795c64e9",
   "metadata": {},
   "outputs": [
    {
     "data": {
      "text/plain": [
       "850"
      ]
     },
     "execution_count": 21,
     "metadata": {},
     "output_type": "execute_result"
    }
   ],
   "source": [
    "def find_diagonal_1(df_zeile):\n",
    "    count=0\n",
    "    for y in range(0,number-3):\n",
    "        for x in range(0,number-3):\n",
    "            a=df_zeile[y][x]\n",
    "            b=df_zeile[y+1][x+1]\n",
    "            c=df_zeile[y+2][x+2]\n",
    "            d=df_zeile[y+3][x+3]\n",
    "\n",
    "            if a==\"X\" and b==\"M\" and c==\"A\" and d==\"S\":\n",
    "                count+=1\n",
    "\n",
    "            if a==\"S\" and b==\"A\" and c==\"M\" and d==\"X\":\n",
    "                count+=1\n",
    "            \n",
    "    return count\n",
    "\n",
    "find_diagonal_1(df[0])"
   ]
  },
  {
   "cell_type": "code",
   "execution_count": 22,
   "id": "7d9f45a8-76b8-44f4-938c-96120a6bfa1b",
   "metadata": {},
   "outputs": [
    {
     "data": {
      "text/plain": [
       "813"
      ]
     },
     "execution_count": 22,
     "metadata": {},
     "output_type": "execute_result"
    }
   ],
   "source": [
    "def find_diagonal_2(df_zeile):\n",
    "    count=0\n",
    "    for y in range(3,number):\n",
    "        for x in range(0,number-3):\n",
    "            a=df_zeile[y][x]\n",
    "            b=df_zeile[y-1][x+1]\n",
    "            c=df_zeile[y-2][x+2]\n",
    "            d=df_zeile[y-3][x+3]\n",
    "\n",
    "            if a==\"X\" and b==\"M\" and c==\"A\" and d==\"S\":\n",
    "                count+=1\n",
    "\n",
    "            if a==\"S\" and b==\"A\" and c==\"M\" and d==\"X\":\n",
    "                count+=1\n",
    "            \n",
    "    return count\n",
    "\n",
    "find_diagonal_2(df[0])"
   ]
  },
  {
   "cell_type": "code",
   "execution_count": 23,
   "id": "80d36b63-6779-46f9-92f0-29659713246b",
   "metadata": {},
   "outputs": [
    {
     "data": {
      "text/plain": [
       "2503"
      ]
     },
     "execution_count": 23,
     "metadata": {},
     "output_type": "execute_result"
    }
   ],
   "source": [
    "396+813+850+444"
   ]
  },
  {
   "cell_type": "code",
   "execution_count": 24,
   "id": "f7357556-ccd8-49ae-a050-879c90991605",
   "metadata": {},
   "outputs": [
    {
     "name": "stdout",
     "output_type": "stream",
     "text": [
      "2532\n"
     ]
    }
   ],
   "source": [
    "a=find_horizontal(df[0])\n",
    "b=find_vertical(df[0])\n",
    "c=find_diagonal_1(df[0])\n",
    "d=find_diagonal_2(df[0])\n",
    "\n",
    "\n",
    "print(a+b+c+d)"
   ]
  },
  {
   "cell_type": "markdown",
   "id": "4511bec8-33c8-4d22-97de-78fd197037f1",
   "metadata": {},
   "source": [
    "# Part 2"
   ]
  },
  {
   "cell_type": "code",
   "execution_count": 32,
   "id": "3f901df8-a9b6-40af-a8c1-f22c886e2c5a",
   "metadata": {},
   "outputs": [
    {
     "data": {
      "text/plain": [
       "1941"
      ]
     },
     "execution_count": 32,
     "metadata": {},
     "output_type": "execute_result"
    }
   ],
   "source": [
    "def find_diagonal_1_2(df_zeile):\n",
    "    count=0\n",
    "    memory=[]\n",
    "    for y in range(0,number-2):\n",
    "        for x in range(0,number-2):\n",
    "            a=df_zeile[y][x]\n",
    "            b=df_zeile[y+1][x+1]\n",
    "            c=df_zeile[y+2][x+2]\n",
    "            \n",
    "            d=df_zeile[y+2][x]\n",
    "            f=df_zeile[y-2+2][x+2]\n",
    "            \n",
    "            \n",
    "\n",
    "            if a==\"M\" and b==\"A\" and c==\"S\" and d==\"M\"  and f==\"S\":\n",
    "                count+=1\n",
    "                memory.append((x,y))\n",
    "\n",
    "            if a==\"S\" and b==\"A\" and c==\"M\" and d==\"S\"  and f==\"M\" :\n",
    "                count+=1\n",
    "                memory.append((x,y))\n",
    "                \n",
    "            if a==\"S\" and b==\"A\" and c==\"M\" and d==\"M\"  and f==\"S\" :\n",
    "                count+=1\n",
    "                memory.append((x,y))\n",
    "                \n",
    "            if a==\"M\" and b==\"A\" and c==\"S\" and d==\"S\"  and f==\"M\" :\n",
    "                count+=1\n",
    "                memory.append((x,y))\n",
    "            \n",
    "    #print(memory)\n",
    "    return count\n",
    "\n",
    "find_diagonal_1_2(df[0])"
   ]
  },
  {
   "cell_type": "code",
   "execution_count": null,
   "id": "4bde72ef-03ee-4467-ac3f-e7488e055138",
   "metadata": {},
   "outputs": [],
   "source": []
  },
  {
   "cell_type": "code",
   "execution_count": 28,
   "id": "b4248480-71da-4af7-bcaf-e09961dc3fd8",
   "metadata": {},
   "outputs": [
    {
     "name": "stdout",
     "output_type": "stream",
     "text": [
      "1885\n"
     ]
    }
   ],
   "source": [
    "b=find_diagonal_1_2(df[0])\n",
    "\n",
    "\n",
    "\n",
    "print(b)"
   ]
  },
  {
   "cell_type": "code",
   "execution_count": null,
   "id": "f9224cff-63b3-43cd-b251-4ac7652e3e2b",
   "metadata": {},
   "outputs": [],
   "source": []
  }
 ],
 "metadata": {
  "kernelspec": {
   "display_name": "Python 3 (ipykernel)",
   "language": "python",
   "name": "python3"
  },
  "language_info": {
   "codemirror_mode": {
    "name": "ipython",
    "version": 3
   },
   "file_extension": ".py",
   "mimetype": "text/x-python",
   "name": "python",
   "nbconvert_exporter": "python",
   "pygments_lexer": "ipython3",
   "version": "3.10.4"
  }
 },
 "nbformat": 4,
 "nbformat_minor": 5
}
