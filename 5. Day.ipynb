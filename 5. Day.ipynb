{
 "cells": [
  {
   "cell_type": "code",
   "execution_count": 126,
   "id": "bc5e9801-5aa6-4a93-957a-f656e89e5ccc",
   "metadata": {},
   "outputs": [],
   "source": [
    "import pandas as pd\n",
    "import numpy as np\n",
    "\n",
    "#df = pd.read_csv(\"Day_4_sub.txt\" ,header=None)\n",
    "df = pd.read_csv(\"Day_5.txt\",header=None )\n",
    "df2 = pd.read_csv(\"Day_5_order.txt\",header=None,sep=\"|\" )\n",
    "\n",
    "\n",
    "#df = pd.read_csv(\"Day_5_example.txt\",header=None )\n",
    "#df2 = pd.read_csv(\"Day_5_order_example.txt\",header=None,sep=\"|\" )"
   ]
  },
  {
   "cell_type": "code",
   "execution_count": 127,
   "id": "90959a00-76fa-428f-9050-7adb620e62f0",
   "metadata": {},
   "outputs": [],
   "source": [
    "all_pages=[95, 54, 53, 96, 91, 35, 28, 78, 73, 89, 32, 99, 66, 14, 69, 88, 58, 74, 79, 84, 11, 62, 17, 75, 94, 26, 44, 93, 55, 82, 47, 18, 16, 65, 34, 76, 57, 41, 36, 33, 43, 56, 64, 97, 63, 71, 92, 21, 29]"
   ]
  },
  {
   "cell_type": "code",
   "execution_count": 128,
   "id": "998138be-6846-4908-8723-035867d057d0",
   "metadata": {},
   "outputs": [
    {
     "name": "stdout",
     "output_type": "stream",
     "text": [
      "     0   1   2   3   4     5     6   7   8   9   ...  28  29  30  31  32  33  \\\n",
      "200  54  29  79  91  99  92.0  93.0 NaN NaN NaN  ... NaN NaN NaN NaN NaN NaN   \n",
      "\n",
      "     34  35  36  37  \n",
      "200 NaN NaN NaN NaN  \n",
      "\n",
      "[1 rows x 38 columns]\n"
     ]
    }
   ],
   "source": [
    "print(df.loc[200:])"
   ]
  },
  {
   "cell_type": "code",
   "execution_count": 129,
   "id": "08dcc718-db59-421b-8350-7d905e44593b",
   "metadata": {},
   "outputs": [
    {
     "name": "stdout",
     "output_type": "stream",
     "text": [
      "95\n"
     ]
    }
   ],
   "source": [
    "print(df2.loc[0,1])"
   ]
  },
  {
   "cell_type": "code",
   "execution_count": null,
   "id": "1450e78e-e57e-4de1-a403-68240eeb5658",
   "metadata": {},
   "outputs": [],
   "source": [
    "\n",
    "   "
   ]
  },
  {
   "cell_type": "code",
   "execution_count": 130,
   "id": "5d29c9ec-2985-488b-861f-7f561d5f20bc",
   "metadata": {},
   "outputs": [],
   "source": [
    "\n",
    "def order(df):\n",
    "    order_list=[]    \n",
    "    \n",
    "    for n in all_pages:\n",
    "        sub_list=[]\n",
    "        dom_list=[]\n",
    "        for x in range(0,len(df)):          \n",
    "            dom=df2.loc[x,0]\n",
    "            sub=df2.loc[x,1]\n",
    "            if n==dom:                                                \n",
    "                sub_list.append(sub)                            #these numbers are sub to n\n",
    "            if n==sub:\n",
    "                dom_list.append(dom)                           # these numbers are dom to n\n",
    "        order_list.append([dom_list,sub_list])\n",
    "    return order_list\n",
    "        \n",
    "        \n",
    "    \n",
    "    \n",
    "stars_n_stripes=order(df2)\n",
    "#print(stars_n_stripes)"
   ]
  },
  {
   "cell_type": "code",
   "execution_count": 131,
   "id": "455a9d73-a76c-4fd4-9216-8051675f3059",
   "metadata": {},
   "outputs": [],
   "source": [
    "\n",
    "#all_pages.index(54)"
   ]
  },
  {
   "cell_type": "code",
   "execution_count": 132,
   "id": "f23889b6-070e-45f3-94ae-187bb9f3a732",
   "metadata": {},
   "outputs": [],
   "source": [
    "def clean(df):\n",
    "    stars_n_stripes=order(df2)\n",
    "    all_array=[]\n",
    "    for y in range(1,len(df)):\n",
    "        array=[]\n",
    "        for x in range(0,24):                 #24\n",
    "            n=df.loc[y,x]\n",
    "            if n>9 and n<100:\n",
    "                array.append(n)\n",
    "        all_array.append(array)\n",
    "        \n",
    "    return(all_array)\n",
    "            \n",
    "        \n"
   ]
  },
  {
   "cell_type": "code",
   "execution_count": 133,
   "id": "091f3c7c-c33a-4864-9b0d-85d579e6d76c",
   "metadata": {},
   "outputs": [
    {
     "name": "stdout",
     "output_type": "stream",
     "text": [
      "[34, 74, 26, 89, 64, 44.0, 55.0, 65.0, 53.0, 16.0, 18.0, 95.0, 73.0, 82.0, 43.0]\n"
     ]
    }
   ],
   "source": [
    "data=clean(df)\n",
    "print(data[0])"
   ]
  },
  {
   "cell_type": "code",
   "execution_count": 134,
   "id": "83d458c1-807e-49a4-a10f-b99dd86ed9da",
   "metadata": {},
   "outputs": [],
   "source": [
    "def sort(line):\n",
    "    memory=0\n",
    "    for x in range(1,len(line)-1):\n",
    "        n=line[x]\n",
    "        index=all_pages.index(n)\n",
    "        dom_liste=stars_n_stripes[index][0]\n",
    "        sub_liste=stars_n_stripes[index][1]\n",
    "        \n",
    "        for d in range(0,x):\n",
    "            \n",
    "            dom=line[d]\n",
    "            if dom in sub_liste:\n",
    "                memory+=1\n",
    "            \n",
    "        for s in range(x+1,len(line)):\n",
    "            \n",
    "            sub=line[s]\n",
    "            if sub in dom_liste:\n",
    "                memory+=1\n",
    "                \n",
    "    if memory>0:\n",
    "        return False\n",
    "    else:\n",
    "        return True\n",
    "        \n",
    "                \n",
    "    "
   ]
  },
  {
   "cell_type": "code",
   "execution_count": 135,
   "id": "f0aa06e2-d67c-49b8-9abc-14d27b78f0cd",
   "metadata": {},
   "outputs": [],
   "source": [
    "good=[]\n",
    "for x in range(0,200):\n",
    "    a=sort(data[x])\n",
    "    if a==True:\n",
    "        good.append(x)"
   ]
  },
  {
   "cell_type": "code",
   "execution_count": 136,
   "id": "874ac4d8-7f29-448d-addd-15ed1f8125e4",
   "metadata": {},
   "outputs": [
    {
     "name": "stdout",
     "output_type": "stream",
     "text": [
      "[0, 2, 8, 9, 10, 12, 14, 15, 17, 18, 24, 25, 27, 28, 31, 32, 33, 37, 42, 43, 44, 45, 53, 55, 57, 58, 59, 60, 61, 62, 70, 73, 74, 76, 79, 81, 82, 84, 85, 88, 91, 95, 96, 97, 99, 100, 104, 106, 107, 109, 116, 120, 123, 124, 125, 128, 130, 131, 143, 145, 146, 147, 149, 150, 154, 160, 161, 163, 164, 165, 167, 168, 169, 171, 172, 174, 175, 176, 180, 181, 182, 183, 184, 187, 190, 191, 193, 194, 197, 198]\n"
     ]
    }
   ],
   "source": [
    "print(good)"
   ]
  },
  {
   "cell_type": "code",
   "execution_count": 141,
   "id": "3a7bf72a-e5f7-491a-8dfd-04d5be23ff02",
   "metadata": {},
   "outputs": [
    {
     "name": "stdout",
     "output_type": "stream",
     "text": [
      "4774.0\n"
     ]
    }
   ],
   "source": [
    "mem=[]\n",
    "for x in good:\n",
    "    line=data[x]\n",
    "    mitte=int((len(line)/2 +0.5))-1\n",
    "    mem.append(line[mitte])\n",
    "    \n",
    "print(sum(mem))"
   ]
  },
  {
   "cell_type": "code",
   "execution_count": null,
   "id": "1e8b1963-20fa-49f9-a2b3-16542e0fc69a",
   "metadata": {},
   "outputs": [],
   "source": []
  }
 ],
 "metadata": {
  "kernelspec": {
   "display_name": "Python 3 (ipykernel)",
   "language": "python",
   "name": "python3"
  },
  "language_info": {
   "codemirror_mode": {
    "name": "ipython",
    "version": 3
   },
   "file_extension": ".py",
   "mimetype": "text/x-python",
   "name": "python",
   "nbconvert_exporter": "python",
   "pygments_lexer": "ipython3",
   "version": "3.10.4"
  }
 },
 "nbformat": 4,
 "nbformat_minor": 5
}
